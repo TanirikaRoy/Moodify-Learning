{
  "nbformat": 4,
  "nbformat_minor": 0,
  "metadata": {
    "colab": {
      "name": "Music API.ipynb",
      "provenance": [],
      "collapsed_sections": []
    },
    "kernelspec": {
      "name": "python3",
      "display_name": "Python 3"
    },
    "language_info": {
      "name": "python"
    }
  },
  "cells": [
    {
      "cell_type": "code",
      "metadata": {
        "colab": {
          "base_uri": "https://localhost:8080/"
        },
        "id": "22P6YN771QwR",
        "outputId": "6aaf3b84-f6b7-4a8f-9e83-409e23b6d345"
      },
      "source": [
        "!pip install spotipy"
      ],
      "execution_count": null,
      "outputs": [
        {
          "output_type": "stream",
          "text": [
            "Requirement already satisfied: spotipy in /usr/local/lib/python3.7/dist-packages (2.18.0)\n",
            "Requirement already satisfied: requests>=2.25.0 in /usr/local/lib/python3.7/dist-packages (from spotipy) (2.25.1)\n",
            "Requirement already satisfied: urllib3>=1.26.0 in /usr/local/lib/python3.7/dist-packages (from spotipy) (1.26.5)\n",
            "Requirement already satisfied: six>=1.15.0 in /usr/local/lib/python3.7/dist-packages (from spotipy) (1.15.0)\n",
            "Requirement already satisfied: chardet<5,>=3.0.2 in /usr/local/lib/python3.7/dist-packages (from requests>=2.25.0->spotipy) (3.0.4)\n",
            "Requirement already satisfied: certifi>=2017.4.17 in /usr/local/lib/python3.7/dist-packages (from requests>=2.25.0->spotipy) (2020.12.5)\n",
            "Requirement already satisfied: idna<3,>=2.5 in /usr/local/lib/python3.7/dist-packages (from requests>=2.25.0->spotipy) (2.10)\n"
          ],
          "name": "stdout"
        }
      ]
    },
    {
      "cell_type": "code",
      "metadata": {
        "id": "kBn-WxUg1fzg"
      },
      "source": [
        "import base64\n",
        "import requests\n",
        "import datetime\n",
        "import spotipy\n",
        "import spotipy.oauth2 as oauth2\n",
        "from spotipy.oauth2 import SpotifyOAuth\n",
        "from spotipy.oauth2 import SpotifyClientCredentials\n",
        "import pandas as pd\n",
        "import numpy as np\n"
      ],
      "execution_count": null,
      "outputs": []
    },
    {
      "cell_type": "code",
      "metadata": {
        "id": "fvGF_zAx3EnB"
      },
      "source": [
        "auth_manager=SpotifyClientCredentials(client_id='f7a43754c96842d0abe4714b5d46b5b8',\n",
        "client_secret='b220dc8a84284d15960df4b2460255ee')"
      ],
      "execution_count": null,
      "outputs": []
    },
    {
      "cell_type": "code",
      "metadata": {
        "id": "C3aJvt44tk_P"
      },
      "source": [
        "sp=spotipy.Spotify(auth_manager=auth_manager)"
      ],
      "execution_count": null,
      "outputs": []
    },
    {
      "cell_type": "code",
      "metadata": {
        "id": "hpOIu2C_2_Uj"
      },
      "source": [
        "ids=['6RUKPb4LETWmmr3iAEQktW', '0tgVpDi06FyKpA1z0VMD4v', '2r6OAV3WsYtXuXjvJ1lIDi']"
      ],
      "execution_count": 87,
      "outputs": []
    },
    {
      "cell_type": "code",
      "metadata": {
        "colab": {
          "base_uri": "https://localhost:8080/"
        },
        "id": "vEnySu9OuHHI",
        "outputId": "7d8f7265-e8ab-45d3-c860-30442ce97ac6"
      },
      "source": [
        "sp.audio_features('2r6OAV3WsYtXuXjvJ1lIDi')"
      ],
      "execution_count": 86,
      "outputs": [
        {
          "output_type": "execute_result",
          "data": {
            "text/plain": [
              "[{'acousticness': 0.0187,\n",
              "  'analysis_url': 'https://api.spotify.com/v1/audio-analysis/2r6OAV3WsYtXuXjvJ1lIDi',\n",
              "  'danceability': 0.905,\n",
              "  'duration_ms': 190534,\n",
              "  'energy': 0.647,\n",
              "  'id': '2r6OAV3WsYtXuXjvJ1lIDi',\n",
              "  'instrumentalness': 0,\n",
              "  'key': 10,\n",
              "  'liveness': 0.282,\n",
              "  'loudness': -5.065,\n",
              "  'mode': 0,\n",
              "  'speechiness': 0.107,\n",
              "  'tempo': 130.97,\n",
              "  'time_signature': 4,\n",
              "  'track_href': 'https://api.spotify.com/v1/tracks/2r6OAV3WsYtXuXjvJ1lIDi',\n",
              "  'type': 'audio_features',\n",
              "  'uri': 'spotify:track:2r6OAV3WsYtXuXjvJ1lIDi',\n",
              "  'valence': 0.367}]"
            ]
          },
          "metadata": {
            "tags": []
          },
          "execution_count": 86
        }
      ]
    },
    {
      "cell_type": "code",
      "metadata": {
        "colab": {
          "base_uri": "https://localhost:8080/"
        },
        "id": "4mFXpVS1wuGz",
        "outputId": "d899d8d4-11f0-4d6c-8dee-d3819f651a62"
      },
      "source": [
        "for id in ids:\n",
        "  track_info= sp.track(id)\n",
        "  track_features = sp.audio_features(id)\n",
        "  name= track_info['name']\n",
        "  album = track_info['album']['name']\n",
        "  artist = track_info['album']['name']\n",
        "  release_date = track_info['album']['release_date']\n",
        "  popularity= track_info['popularity']\n",
        "  acousticness = track_features[0]['acousticness']\n",
        "  danceability= track_features[0]['danceability']\n",
        "  energy= track_features[0]['energy']\n",
        "  instrumentalness= track_features[0]['instrumentalness']\n",
        "  liveness= track_features[0]['liveness']\n",
        "  loudness= track_features[0]['loudness']\n",
        "  speechiness= track_features[0]['speechiness']\n",
        "  tempo= track_features[0]['tempo']\n",
        "  time_signature= track_features[0]['time_signature']\n",
        "  valence= track_features[0]['valence']\n",
        "  length= track_features[0]['duration_ms']\n",
        "  key= track_features[0]['key']\n",
        "  mode= track_features[0]['mode']\n",
        "  track=[name, album, artist, release_date, popularity, acousticness,\n",
        "       danceability, energy, instrumentalness, liveness, loudness, \n",
        "       speechiness,tempo, time_signature, valence, length, key, mode]\n",
        "  track\n",
        "  df = pd.DataFrame(track).T.values.tolist()\n",
        "  df_final = pd.DataFrame(df, columns=['Name', 'Album', 'Artist', 'Release_date', 'Popularity', 'Acousticness', 'Danceability', 'Energy',\n",
        "                                     'Instrumentalness', 'Liveness', 'Loudness', \n",
        "                                     'Speechiness', 'Tempo', 'Time_signature', 'Valence', 'Length', 'Key', 'Mode'])\n",
        "  print(df_final)\n"
      ],
      "execution_count": 88,
      "outputs": [
        {
          "output_type": "stream",
          "text": [
            "                       Name                   Album  ... Key Mode\n",
            "0  Something Just Like This  Memories...Do Not Open  ...  11    0\n",
            "\n",
            "[1 rows x 18 columns]\n",
            "      Name       Album      Artist Release_date  ...  Valence  Length  Key  Mode\n",
            "0  Perfect  ÷ (Deluxe)  ÷ (Deluxe)   2017-03-03  ...    0.168  263400    8     1\n",
            "\n",
            "[1 rows x 18 columns]\n",
            "                                   Name  ... Mode\n",
            "0  Hello (feat. A Boogie Wit da Hoodie)  ...    0\n",
            "\n",
            "[1 rows x 18 columns]\n"
          ],
          "name": "stdout"
        }
      ]
    },
    {
      "cell_type": "code",
      "metadata": {
        "id": "0kPMR20M2ILX"
      },
      "source": [
        ""
      ],
      "execution_count": null,
      "outputs": []
    }
  ]
}