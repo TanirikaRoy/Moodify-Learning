{
  "nbformat": 4,
  "nbformat_minor": 0,
  "metadata": {
    "colab": {
      "name": "Music API.ipynb",
      "provenance": [],
      "collapsed_sections": []
    },
    "kernelspec": {
      "name": "python3",
      "display_name": "Python 3"
    },
    "language_info": {
      "name": "python"
    }
  },
  "cells": [
    {
      "cell_type": "code",
      "metadata": {
        "colab": {
          "base_uri": "https://localhost:8080/"
        },
        "id": "22P6YN771QwR",
        "outputId": "15dac9f3-2a04-479e-a74a-c323a8e7f569"
      },
      "source": [
        "!pip install spotipy"
      ],
      "execution_count": 1,
      "outputs": [
        {
          "output_type": "stream",
          "text": [
            "Collecting spotipy\n",
            "  Downloading https://files.pythonhosted.org/packages/02/9b/25b96cd2f1e2174ac787099b386e2afd427bf78dfb11e1c5857affc3409d/spotipy-2.18.0-py3-none-any.whl\n",
            "Collecting requests>=2.25.0\n",
            "\u001b[?25l  Downloading https://files.pythonhosted.org/packages/29/c1/24814557f1d22c56d50280771a17307e6bf87b70727d975fd6b2ce6b014a/requests-2.25.1-py2.py3-none-any.whl (61kB)\n",
            "\u001b[K     |████████████████████████████████| 61kB 5.4MB/s \n",
            "\u001b[?25hCollecting urllib3>=1.26.0\n",
            "\u001b[?25l  Downloading https://files.pythonhosted.org/packages/0c/cd/1e2ec680ec7b09846dc6e605f5a7709dfb9d7128e51a026e7154e18a234e/urllib3-1.26.5-py2.py3-none-any.whl (138kB)\n",
            "\u001b[K     |████████████████████████████████| 143kB 16.6MB/s \n",
            "\u001b[?25hRequirement already satisfied: six>=1.15.0 in /usr/local/lib/python3.7/dist-packages (from spotipy) (1.15.0)\n",
            "Requirement already satisfied: certifi>=2017.4.17 in /usr/local/lib/python3.7/dist-packages (from requests>=2.25.0->spotipy) (2020.12.5)\n",
            "Requirement already satisfied: idna<3,>=2.5 in /usr/local/lib/python3.7/dist-packages (from requests>=2.25.0->spotipy) (2.10)\n",
            "Requirement already satisfied: chardet<5,>=3.0.2 in /usr/local/lib/python3.7/dist-packages (from requests>=2.25.0->spotipy) (3.0.4)\n",
            "\u001b[31mERROR: google-colab 1.0.0 has requirement requests~=2.23.0, but you'll have requests 2.25.1 which is incompatible.\u001b[0m\n",
            "\u001b[31mERROR: datascience 0.10.6 has requirement folium==0.2.1, but you'll have folium 0.8.3 which is incompatible.\u001b[0m\n",
            "Installing collected packages: urllib3, requests, spotipy\n",
            "  Found existing installation: urllib3 1.24.3\n",
            "    Uninstalling urllib3-1.24.3:\n",
            "      Successfully uninstalled urllib3-1.24.3\n",
            "  Found existing installation: requests 2.23.0\n",
            "    Uninstalling requests-2.23.0:\n",
            "      Successfully uninstalled requests-2.23.0\n",
            "Successfully installed requests-2.25.1 spotipy-2.18.0 urllib3-1.26.5\n"
          ],
          "name": "stdout"
        }
      ]
    },
    {
      "cell_type": "code",
      "metadata": {
        "id": "kBn-WxUg1fzg"
      },
      "source": [
        "import base64\n",
        "import requests\n",
        "import datetime\n",
        "import spotipy\n",
        "import spotipy.oauth2 as oauth2\n",
        "from spotipy.oauth2 import SpotifyOAuth\n",
        "from spotipy.oauth2 import SpotifyClientCredentials\n",
        "import pandas as pd\n",
        "import numpy as np\n"
      ],
      "execution_count": 2,
      "outputs": []
    },
    {
      "cell_type": "code",
      "metadata": {
        "id": "fvGF_zAx3EnB"
      },
      "source": [
        "auth_manager=SpotifyClientCredentials(client_id='f7a43754c96842d0abe4714b5d46b5b8',\n",
        "client_secret='b220dc8a84284d15960df4b2460255ee')"
      ],
      "execution_count": 3,
      "outputs": []
    },
    {
      "cell_type": "code",
      "metadata": {
        "id": "C3aJvt44tk_P"
      },
      "source": [
        "sp=spotipy.Spotify(auth_manager=auth_manager)"
      ],
      "execution_count": 4,
      "outputs": []
    },
    {
      "cell_type": "code",
      "metadata": {
        "id": "hpOIu2C_2_Uj"
      },
      "source": [
        "ids=['6RUKPb4LETWmmr3iAEQktW', '0tgVpDi06FyKpA1z0VMD4v', '2r6OAV3WsYtXuXjvJ1lIDi']"
      ],
      "execution_count": 5,
      "outputs": []
    },
    {
      "cell_type": "code",
      "metadata": {
        "colab": {
          "base_uri": "https://localhost:8080/"
        },
        "id": "vEnySu9OuHHI",
        "outputId": "9abe4118-e3d2-4f88-8b1d-495316f7d946"
      },
      "source": [
        "sp.audio_features('2r6OAV3WsYtXuXjvJ1lIDi')"
      ],
      "execution_count": 6,
      "outputs": [
        {
          "output_type": "execute_result",
          "data": {
            "text/plain": [
              "[{'acousticness': 0.0187,\n",
              "  'analysis_url': 'https://api.spotify.com/v1/audio-analysis/2r6OAV3WsYtXuXjvJ1lIDi',\n",
              "  'danceability': 0.905,\n",
              "  'duration_ms': 190534,\n",
              "  'energy': 0.647,\n",
              "  'id': '2r6OAV3WsYtXuXjvJ1lIDi',\n",
              "  'instrumentalness': 0,\n",
              "  'key': 10,\n",
              "  'liveness': 0.282,\n",
              "  'loudness': -5.065,\n",
              "  'mode': 0,\n",
              "  'speechiness': 0.107,\n",
              "  'tempo': 130.97,\n",
              "  'time_signature': 4,\n",
              "  'track_href': 'https://api.spotify.com/v1/tracks/2r6OAV3WsYtXuXjvJ1lIDi',\n",
              "  'type': 'audio_features',\n",
              "  'uri': 'spotify:track:2r6OAV3WsYtXuXjvJ1lIDi',\n",
              "  'valence': 0.367}]"
            ]
          },
          "metadata": {
            "tags": []
          },
          "execution_count": 6
        }
      ]
    },
    {
      "cell_type": "code",
      "metadata": {
        "colab": {
          "base_uri": "https://localhost:8080/",
          "height": 265
        },
        "id": "4mFXpVS1wuGz",
        "outputId": "f8019c8f-1ca2-4095-c3ba-1efc337fdd54"
      },
      "source": [
        "df = pd.DataFrame(columns=['Name', 'Album', 'Artist', 'Release_date', 'Popularity', 'Acousticness', 'Danceability', 'Energy',\n",
        "                                     'Instrumentalness', 'Liveness', 'Loudness', \n",
        "                                     'Speechiness', 'Tempo', 'Time_signature', 'Valence', 'Length', 'Key', 'Mode'])\n",
        "for id in ids:\n",
        "  track_info= sp.track(id)\n",
        "  track_features = sp.audio_features(id)\n",
        "  name= track_info['name']\n",
        "  album = track_info['album']['name']\n",
        "  artist = track_info['album']['name']\n",
        "  release_date = track_info['album']['release_date']\n",
        "  popularity= track_info['popularity']\n",
        "  acousticness = track_features[0]['acousticness']\n",
        "  danceability= track_features[0]['danceability']\n",
        "  energy= track_features[0]['energy']\n",
        "  instrumentalness= track_features[0]['instrumentalness']\n",
        "  liveness= track_features[0]['liveness']\n",
        "  loudness= track_features[0]['loudness']\n",
        "  speechiness= track_features[0]['speechiness']\n",
        "  tempo= track_features[0]['tempo']\n",
        "  time_signature= track_features[0]['time_signature']\n",
        "  valence= track_features[0]['valence']\n",
        "  length= track_features[0]['duration_ms']\n",
        "  key= track_features[0]['key']\n",
        "  mode= track_features[0]['mode']\n",
        "  track=[name, album, artist, release_date, popularity, acousticness,\n",
        "       danceability, energy, instrumentalness, liveness, loudness, \n",
        "       speechiness,tempo, time_signature, valence, length, key, mode]\n",
        "  track\n",
        "  df = df.append({\n",
        "                  'Name':name, 'Album':album, 'Artist':artist, 'Release_date':release_date, 'Popularity':popularity,\n",
        "                  'Acousticness':acousticness, 'Danceability':danceability, 'Energy':energy,\n",
        "                                     'Instrumentalness':instrumentalness, 'Liveness':liveness, 'Loudness':loudness, \n",
        "                                     'Speechiness':speechiness, 'Tempo':tempo, 'Time_signature':time_signature, 'Valence':valence,\n",
        "                   'Length':length, 'Key': key, 'Mode':mode\n",
        "                   }\n",
        "                   ,ignore_index=True\n",
        "                  )\n",
        "\n",
        "df\n"
      ],
      "execution_count": 12,
      "outputs": [
        {
          "output_type": "execute_result",
          "data": {
            "text/html": [
              "<div>\n",
              "<style scoped>\n",
              "    .dataframe tbody tr th:only-of-type {\n",
              "        vertical-align: middle;\n",
              "    }\n",
              "\n",
              "    .dataframe tbody tr th {\n",
              "        vertical-align: top;\n",
              "    }\n",
              "\n",
              "    .dataframe thead th {\n",
              "        text-align: right;\n",
              "    }\n",
              "</style>\n",
              "<table border=\"1\" class=\"dataframe\">\n",
              "  <thead>\n",
              "    <tr style=\"text-align: right;\">\n",
              "      <th></th>\n",
              "      <th>Name</th>\n",
              "      <th>Album</th>\n",
              "      <th>Artist</th>\n",
              "      <th>Release_date</th>\n",
              "      <th>Popularity</th>\n",
              "      <th>Acousticness</th>\n",
              "      <th>Danceability</th>\n",
              "      <th>Energy</th>\n",
              "      <th>Instrumentalness</th>\n",
              "      <th>Liveness</th>\n",
              "      <th>Loudness</th>\n",
              "      <th>Speechiness</th>\n",
              "      <th>Tempo</th>\n",
              "      <th>Time_signature</th>\n",
              "      <th>Valence</th>\n",
              "      <th>Length</th>\n",
              "      <th>Key</th>\n",
              "      <th>Mode</th>\n",
              "    </tr>\n",
              "  </thead>\n",
              "  <tbody>\n",
              "    <tr>\n",
              "      <th>0</th>\n",
              "      <td>Something Just Like This</td>\n",
              "      <td>Memories...Do Not Open</td>\n",
              "      <td>Memories...Do Not Open</td>\n",
              "      <td>2017-04-07</td>\n",
              "      <td>83</td>\n",
              "      <td>0.0498</td>\n",
              "      <td>0.617</td>\n",
              "      <td>0.635</td>\n",
              "      <td>0.000014</td>\n",
              "      <td>0.164</td>\n",
              "      <td>-6.769</td>\n",
              "      <td>0.0317</td>\n",
              "      <td>103.019</td>\n",
              "      <td>4</td>\n",
              "      <td>0.446</td>\n",
              "      <td>247160</td>\n",
              "      <td>11</td>\n",
              "      <td>0</td>\n",
              "    </tr>\n",
              "    <tr>\n",
              "      <th>1</th>\n",
              "      <td>Perfect</td>\n",
              "      <td>÷ (Deluxe)</td>\n",
              "      <td>÷ (Deluxe)</td>\n",
              "      <td>2017-03-03</td>\n",
              "      <td>86</td>\n",
              "      <td>0.1630</td>\n",
              "      <td>0.599</td>\n",
              "      <td>0.448</td>\n",
              "      <td>0.000000</td>\n",
              "      <td>0.106</td>\n",
              "      <td>-6.312</td>\n",
              "      <td>0.0232</td>\n",
              "      <td>95.050</td>\n",
              "      <td>3</td>\n",
              "      <td>0.168</td>\n",
              "      <td>263400</td>\n",
              "      <td>8</td>\n",
              "      <td>1</td>\n",
              "    </tr>\n",
              "    <tr>\n",
              "      <th>2</th>\n",
              "      <td>Hello (feat. A Boogie Wit da Hoodie)</td>\n",
              "      <td>Shoot For The Stars Aim For The Moon (Deluxe)</td>\n",
              "      <td>Shoot For The Stars Aim For The Moon (Deluxe)</td>\n",
              "      <td>2020-07-20</td>\n",
              "      <td>83</td>\n",
              "      <td>0.0187</td>\n",
              "      <td>0.905</td>\n",
              "      <td>0.647</td>\n",
              "      <td>0.000000</td>\n",
              "      <td>0.282</td>\n",
              "      <td>-5.065</td>\n",
              "      <td>0.1070</td>\n",
              "      <td>130.970</td>\n",
              "      <td>4</td>\n",
              "      <td>0.367</td>\n",
              "      <td>190534</td>\n",
              "      <td>10</td>\n",
              "      <td>0</td>\n",
              "    </tr>\n",
              "  </tbody>\n",
              "</table>\n",
              "</div>"
            ],
            "text/plain": [
              "                                   Name  ... Mode\n",
              "0              Something Just Like This  ...    0\n",
              "1                               Perfect  ...    1\n",
              "2  Hello (feat. A Boogie Wit da Hoodie)  ...    0\n",
              "\n",
              "[3 rows x 18 columns]"
            ]
          },
          "metadata": {
            "tags": []
          },
          "execution_count": 12
        }
      ]
    },
    {
      "cell_type": "code",
      "metadata": {
        "id": "0kPMR20M2ILX"
      },
      "source": [
        ""
      ],
      "execution_count": null,
      "outputs": []
    }
  ]
}