{
 "cells": [
  {
   "cell_type": "markdown",
   "metadata": {},
   "source": [
    "# Assignment 2"
   ]
  },
  {
   "cell_type": "markdown",
   "metadata": {},
   "source": [
    "## Problem 2"
   ]
  },
  {
   "cell_type": "code",
   "execution_count": 21,
   "metadata": {},
   "outputs": [
    {
     "data": {
      "text/html": [
       "<div>\n",
       "<style scoped>\n",
       "    .dataframe tbody tr th:only-of-type {\n",
       "        vertical-align: middle;\n",
       "    }\n",
       "\n",
       "    .dataframe tbody tr th {\n",
       "        vertical-align: top;\n",
       "    }\n",
       "\n",
       "    .dataframe thead th {\n",
       "        text-align: right;\n",
       "    }\n",
       "</style>\n",
       "<table border=\"1\" class=\"dataframe\">\n",
       "  <thead>\n",
       "    <tr style=\"text-align: right;\">\n",
       "      <th></th>\n",
       "      <th>0</th>\n",
       "      <th>1</th>\n",
       "      <th>2</th>\n",
       "    </tr>\n",
       "  </thead>\n",
       "  <tbody>\n",
       "    <tr>\n",
       "      <th>0</th>\n",
       "      <td>-3.005382</td>\n",
       "      <td>-1.701191</td>\n",
       "      <td>1</td>\n",
       "    </tr>\n",
       "    <tr>\n",
       "      <th>1</th>\n",
       "      <td>-2.908105</td>\n",
       "      <td>-1.699589</td>\n",
       "      <td>1</td>\n",
       "    </tr>\n",
       "    <tr>\n",
       "      <th>2</th>\n",
       "      <td>-2.958954</td>\n",
       "      <td>-1.660940</td>\n",
       "      <td>1</td>\n",
       "    </tr>\n",
       "    <tr>\n",
       "      <th>3</th>\n",
       "      <td>-2.922840</td>\n",
       "      <td>-1.638722</td>\n",
       "      <td>1</td>\n",
       "    </tr>\n",
       "    <tr>\n",
       "      <th>4</th>\n",
       "      <td>-2.924240</td>\n",
       "      <td>-1.508256</td>\n",
       "      <td>1</td>\n",
       "    </tr>\n",
       "  </tbody>\n",
       "</table>\n",
       "</div>"
      ],
      "text/plain": [
       "          0         1  2\n",
       "0 -3.005382 -1.701191  1\n",
       "1 -2.908105 -1.699589  1\n",
       "2 -2.958954 -1.660940  1\n",
       "3 -2.922840 -1.638722  1\n",
       "4 -2.924240 -1.508256  1"
      ]
     },
     "execution_count": 21,
     "metadata": {},
     "output_type": "execute_result"
    }
   ],
   "source": [
    "import pandas as pd\n",
    "import numpy as np\n",
    "import seaborn as sns\n",
    "import numpy.random as nr\n",
    "import sklearn.model_selection as ms\n",
    "import math\n",
    "import matplotlib.pyplot as plt\n",
    "%matplotlib inline\n",
    "\n",
    "data = pd.read_json('https://raw.githubusercontent.com/wncc/learners-space/master/Machine%20Learning/MId%20Term%20Assignment/data.json')\n",
    "data.head()\n",
    "\n"
   ]
  },
  {
   "cell_type": "code",
   "execution_count": 138,
   "metadata": {},
   "outputs": [
    {
     "data": {
      "text/plain": [
       "1    4679\n",
       "0    1321\n",
       "Name: 2, dtype: int64"
      ]
     },
     "execution_count": 138,
     "metadata": {},
     "output_type": "execute_result"
    }
   ],
   "source": [
    "data[2].value_counts()"
   ]
  },
  {
   "cell_type": "code",
   "execution_count": 139,
   "metadata": {},
   "outputs": [],
   "source": [
    "nr.seed(500)\n",
    "X = data.iloc[:,:2]\n",
    "Y = data.iloc[:,2:]\n",
    "x_train,x_test,y_train,y_test = ms.train_test_split(X,Y, test_size = 0.4)"
   ]
  },
  {
   "cell_type": "code",
   "execution_count": 140,
   "metadata": {},
   "outputs": [
    {
     "data": {
      "text/plain": [
       "array([[-1.49586208,  0.29523945],\n",
       "       [-0.10238082,  0.07442977],\n",
       "       [-1.04704195,  1.22658971],\n",
       "       ...,\n",
       "       [-2.86649872,  0.70749098],\n",
       "       [ 0.93180197, -1.55120221],\n",
       "       [-2.02902349, -0.04887253]])"
      ]
     },
     "execution_count": 140,
     "metadata": {},
     "output_type": "execute_result"
    }
   ],
   "source": [
    "np.array(x_train).reshape(3600,2)\n"
   ]
  },
  {
   "cell_type": "code",
   "execution_count": 141,
   "metadata": {},
   "outputs": [
    {
     "data": {
      "text/plain": [
       "array([[1],\n",
       "       [0],\n",
       "       [0],\n",
       "       ...,\n",
       "       [1],\n",
       "       [0],\n",
       "       [1]], dtype=int64)"
      ]
     },
     "execution_count": 141,
     "metadata": {},
     "output_type": "execute_result"
    }
   ],
   "source": [
    "np.array(y_train).reshape(3600,1)"
   ]
  },
  {
   "cell_type": "code",
   "execution_count": 142,
   "metadata": {},
   "outputs": [
    {
     "name": "stdout",
     "output_type": "stream",
     "text": [
      "[[ 5.00686878e+00 -9.88209555e-01  1.95043683e-01 -3.84959222e-02\n",
      "   5.00686878e+00]\n",
      " [ 1.09868822e-04 -7.98734706e-05  5.80671676e-05 -4.22142162e-05\n",
      "   1.09868822e-04]\n",
      " [ 1.20186678e+00 -1.40796406e+00  1.64940309e+00 -1.93224432e+00\n",
      "   1.20186678e+00]\n",
      " ...\n",
      " [ 6.75160474e+01 -1.66638813e+01  4.11287318e+00 -1.01511319e+00\n",
      "   6.75160474e+01]\n",
      " [ 7.53866579e-01 -1.25498716e+00  2.08921952e+00 -3.47799431e+00\n",
      "   7.53866579e-01]\n",
      " [ 1.69491646e+01  4.08249848e-01  9.83340138e-03  2.36854424e-04\n",
      "   1.69491646e+01]]\n"
     ]
    }
   ],
   "source": [
    "A0 = np.array(pow(x_train[0],4)).reshape(1, x_train.shape[0])\n",
    "A1 = np.array(pow(x_train[0],3)*x_train[1]).reshape(1, x_train.shape[0])\n",
    "A2 = np.array(pow(x_train[0],2)*pow(x_train[1],2)).reshape(1, x_train.shape[0])\n",
    "A3 = np.array(pow(x_train[0],1)*pow(x_train[1],3)).reshape(1, x_train.shape[0])\n",
    "A4 = np.array(pow(x_train[0],4) ).reshape(1, x_train.shape[0])\n",
    "A = np.vstack((A0, A1, A2, A3, A4))\n",
    "A = A.T\n",
    "print(A)"
   ]
  },
  {
   "cell_type": "code",
   "execution_count": 143,
   "metadata": {},
   "outputs": [],
   "source": [
    "coef = np.array([0.45, 0.001, 0.001, 0.001, 0.001])"
   ]
  },
  {
   "cell_type": "code",
   "execution_count": 144,
   "metadata": {},
   "outputs": [
    {
     "name": "stdout",
     "output_type": "stream",
     "text": [
      "[[ 1.24910007]\n",
      " [-0.07761834]\n",
      " [-1.30610338]\n",
      " [ 0.01043576]\n",
      " [ 0.80010007]]\n"
     ]
    }
   ],
   "source": [
    "y=y_train\n",
    "for i in range (250):\n",
    "    coef = coef.reshape(5,1) - 0.2*(np.dot(np.array((np.array(1/(1+\n",
    "           (np.exp(-(np.dot(A,coef.reshape(5,1)))))))).reshape(y.shape[0],1) - y).reshape([1,y.shape[0]]), A)/y.shape[0]).reshape(5,1)\n",
    "    \n",
    "print(coef)\n",
    "y_train=y"
   ]
  },
  {
   "cell_type": "code",
   "execution_count": 171,
   "metadata": {},
   "outputs": [
    {
     "name": "stdout",
     "output_type": "stream",
     "text": [
      "Mean Loss : nan\n",
      "[[0.69577536]\n",
      " [1.        ]\n",
      " [1.        ]\n",
      " ...\n",
      " [0.5810489 ]\n",
      " [0.99999528]\n",
      " [0.21463553]]\n"
     ]
    },
    {
     "name": "stderr",
     "output_type": "stream",
     "text": [
      "<ipython-input-171-0c3c5c756380>:7: RuntimeWarning: divide by zero encountered in log\n",
      "  return (-np.dot(y.T, np.log(h(A, coef))) - np.dot((1-y).T ,np.log(1-h(A, coef))) )/y.shape[0]\n"
     ]
    }
   ],
   "source": [
    "def h(A, coef):\n",
    "  return np.array(1/(1+(np.exp(-f(A,coef)))) )\n",
    "def f(A, coef):\n",
    "  fun = np.dot(A,coef.reshape(5,1))\n",
    "  return fun\n",
    "def l(y, A, coef): \n",
    "  return (-np.dot(y.T, np.log(h(A, coef))) - np.dot((1-y).T ,np.log(1-h(A, coef))) )/y.shape[0]\n",
    "def g(A, coef, y):\n",
    "  return np.dot(np.array(h(A, coef).reshape(y.shape[0],1) - y).reshape([1,y.shape[0]]), A)/y.shape[0]\n",
    "def gradesc(A, y, coef,L):      \n",
    "  for i in range (250):\n",
    "    coef = coef.reshape(5,1) - L*g(A, coef, y).reshape(5,1)\n",
    "  return coef \n",
    "\n",
    "def predict(x_test, coef = gradesc(A,y_train, coef, 0.01) ):\n",
    "  A0 = np.array(pow(x_test[0],4)).reshape(1, x_test.shape[0])\n",
    "  A1 = np.array(pow(x_test[0],3)*x_test[1]).reshape(1, x_test.shape[0])\n",
    "  A2 = np.array(pow(x_test[0],2)*pow(x_test[1],2)).reshape(1, x_test.shape[0])\n",
    "  A3 = np.array(pow(x_test[0],1)*pow(x_test[1],3)).reshape(1, x_test.shape[0])\n",
    "  A4 = np.array(pow(x_test[0],4) ).reshape(1, x_test.shape[0])\n",
    "  A_ = np.vstack((A0, A1, A2, A3, A4))\n",
    "  A_ = A_.T\n",
    "  print('Mean Loss :' ,np.sum(l(y_test,A_,coef)))\n",
    "  return h(A_, coef)\n",
    "\n",
    "\n",
    "\n",
    "\n",
    "\n",
    "probs = predict(x_test)\n",
    "print(probs)"
   ]
  },
  {
   "cell_type": "code",
   "execution_count": 183,
   "metadata": {},
   "outputs": [
    {
     "name": "stdout",
     "output_type": "stream",
     "text": [
      "Predicted values\n",
      "1    2400\n",
      "dtype: int64\n"
     ]
    }
   ],
   "source": [
    "def score_model(probs, threshold):\n",
    "    return np.array([1 if x > threshold else 0 for x in probs[:]])\n",
    "y_pred = score_model(probs, 0.1)\n",
    "pred_df = pd.DataFrame(y_pred)\n",
    "print('Predicted values')\n",
    "print(pred_df.value_counts())"
   ]
  },
  {
   "cell_type": "code",
   "execution_count": 184,
   "metadata": {},
   "outputs": [
    {
     "name": "stdout",
     "output_type": "stream",
     "text": [
      "Predicted values\n",
      "1    1774\n",
      "0     626\n",
      "dtype: int64\n",
      "Actual values\n"
     ]
    },
    {
     "data": {
      "text/plain": [
       "2\n",
       "1    1885\n",
       "0     515\n",
       "dtype: int64"
      ]
     },
     "execution_count": 184,
     "metadata": {},
     "output_type": "execute_result"
    }
   ],
   "source": [
    "def score_model(probs, threshold):\n",
    "    return np.array([1 if x > threshold else 0 for x in probs[:]])\n",
    "y_pred = score_model(probs, 0.5315)\n",
    "pred_df = pd.DataFrame(y_pred)\n",
    "print('Predicted values')\n",
    "print(pred_df.value_counts())\n",
    "print('Actual values')\n",
    "y_test.value_counts()"
   ]
  },
  {
   "cell_type": "code",
   "execution_count": 185,
   "metadata": {},
   "outputs": [
    {
     "name": "stdout",
     "output_type": "stream",
     "text": [
      "                 Confusion matrix\n",
      "                 Score positive    Score negative\n",
      "Actual positive      1737               148\n",
      "Actual negative        37               478\n",
      "\n",
      "Accuracy  0.92\n",
      " \n",
      "           Positive      Negative\n",
      "Num case     1885           515\n",
      "Precision    0.98          0.76\n",
      "Recall       0.92          0.93\n",
      "F1           0.95          0.84\n"
     ]
    }
   ],
   "source": [
    "from sklearn import preprocessing\n",
    "import sklearn.model_selection as ms\n",
    "from sklearn import linear_model\n",
    "import sklearn.metrics as sklm\n",
    "\n",
    "def print_metrics(labels, scores):\n",
    "    metrics = sklm.precision_recall_fscore_support(labels, scores)\n",
    "    conf = sklm.confusion_matrix(labels, scores)\n",
    "    print('                 Confusion matrix')\n",
    "    print('                 Score positive    Score negative')\n",
    "    print('Actual positive    %6d' % conf[1,1] + '             %5d' % conf[1,0])\n",
    "    print('Actual negative    %6d' % conf[0,1] + '             %5d' % conf[0,0])\n",
    "    print('')\n",
    "    print('Accuracy  %0.2f' % sklm.accuracy_score(labels, scores))\n",
    "    print(' ')\n",
    "    print('           Positive      Negative')\n",
    "    print('Num case   %6d' % metrics[3][1] + '        %6d' % metrics[3][0])\n",
    "    print('Precision  %6.2f' % metrics[0][1] + '        %6.2f' % metrics[0][0])\n",
    "    print('Recall     %6.2f' % metrics[1][1] + '        %6.2f' % metrics[1][0])\n",
    "    print('F1         %6.2f' % metrics[2][1] + '        %6.2f' % metrics[2][0])\n",
    "\n",
    "\n",
    "    \n",
    "print_metrics(y_test, y_pred)"
   ]
  },
  {
   "cell_type": "code",
   "execution_count": null,
   "metadata": {},
   "outputs": [],
   "source": []
  },
  {
   "cell_type": "code",
   "execution_count": null,
   "metadata": {},
   "outputs": [],
   "source": []
  }
 ],
 "metadata": {
  "kernelspec": {
   "display_name": "Python 3",
   "language": "python",
   "name": "python3"
  },
  "language_info": {
   "codemirror_mode": {
    "name": "ipython",
    "version": 3
   },
   "file_extension": ".py",
   "mimetype": "text/x-python",
   "name": "python",
   "nbconvert_exporter": "python",
   "pygments_lexer": "ipython3",
   "version": "3.8.5"
  }
 },
 "nbformat": 4,
 "nbformat_minor": 4
}
