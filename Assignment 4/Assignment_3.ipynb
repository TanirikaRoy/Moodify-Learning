{
  "nbformat": 4,
  "nbformat_minor": 0,
  "metadata": {
    "colab": {
      "name": "Assignment 3.ipynb",
      "provenance": []
    },
    "kernelspec": {
      "name": "python3",
      "display_name": "Python 3"
    },
    "language_info": {
      "name": "python"
    }
  },
  "cells": [
    {
      "cell_type": "code",
      "metadata": {
        "id": "zTcazrtTWtQL"
      },
      "source": [
        "import numpy as np\n",
        "import pandas as pd\n",
        "import matplotlib.pyplot as plt\n",
        "%matplotlib inline"
      ],
      "execution_count": 74,
      "outputs": []
    },
    {
      "cell_type": "code",
      "metadata": {
        "id": "Dd2wHjo_W1Gn"
      },
      "source": [
        "train = pd.read_csv('train.csv')\n",
        "test = pd.read_csv('test.csv')"
      ],
      "execution_count": 75,
      "outputs": []
    },
    {
      "cell_type": "code",
      "metadata": {
        "colab": {
          "base_uri": "https://localhost:8080/"
        },
        "id": "92_pwtP0W5rA",
        "outputId": "3d6b1e8c-afc4-4454-b4e8-514d6a339220"
      },
      "source": [
        "x_train = train.iloc[:,1:].values.astype('float32') \n",
        "y_train = train.iloc[:,0].values.astype('int32')\n",
        "x_train = x_train.reshape(x_train.shape[0], 28, 28,1)\n",
        "x_train.shape"
      ],
      "execution_count": 76,
      "outputs": [
        {
          "output_type": "execute_result",
          "data": {
            "text/plain": [
              "(42000, 28, 28, 1)"
            ]
          },
          "metadata": {
            "tags": []
          },
          "execution_count": 76
        }
      ]
    },
    {
      "cell_type": "code",
      "metadata": {
        "id": "LjdkTe2MYQMe"
      },
      "source": [
        "\n",
        "from keras.utils.np_utils import to_categorical\n",
        "y_train= to_categorical(y_train)"
      ],
      "execution_count": 77,
      "outputs": []
    },
    {
      "cell_type": "code",
      "metadata": {
        "id": "Eo50sdLPeS9K"
      },
      "source": [
        "from keras.models import  Sequential\n",
        "from keras.layers.core import  Lambda , Dense, Flatten, Dropout, Activation\n",
        "from keras.layers import Convolution2D, MaxPooling2D\n",
        "np.random.seed(39)"
      ],
      "execution_count": 78,
      "outputs": []
    },
    {
      "cell_type": "code",
      "metadata": {
        "id": "5bEMsslPXM1-"
      },
      "source": [
        "model = Sequential([\n",
        "        Convolution2D(32,(3,3), activation='relu', input_shape = (28,28,1)),\n",
        "        MaxPooling2D((3,3)),\n",
        "        Convolution2D(64,(3,3), activation='relu'),\n",
        "        MaxPooling2D((3,3)),\n",
        "        Flatten(),\n",
        "        Dense(512, activation='relu'),\n",
        "        Dense(10, activation='softmax')\n",
        "        ])\n",
        "model.compile(optimizer =\"Adam\", loss='categorical_crossentropy',\n",
        "                  metrics=['accuracy'])"
      ],
      "execution_count": 89,
      "outputs": []
    },
    {
      "cell_type": "code",
      "metadata": {
        "colab": {
          "base_uri": "https://localhost:8080/"
        },
        "id": "iDZ3KfqnXO4i",
        "outputId": "8bdce1da-f72d-4cb9-dd9f-c2c705ae2a0f"
      },
      "source": [
        "model.optimizer.lr = 0.0005\n",
        "model.fit(x_train, y_train, epochs =8, batch_size=128, validation_split= 0.1, verbose=2)"
      ],
      "execution_count": 91,
      "outputs": [
        {
          "output_type": "stream",
          "text": [
            "Epoch 1/8\n",
            "296/296 - 14s - loss: 0.0187 - accuracy: 0.9937 - val_loss: 0.0729 - val_accuracy: 0.9817\n",
            "Epoch 2/8\n",
            "296/296 - 14s - loss: 0.0225 - accuracy: 0.9922 - val_loss: 0.0850 - val_accuracy: 0.9783\n",
            "Epoch 3/8\n",
            "296/296 - 14s - loss: 0.0217 - accuracy: 0.9925 - val_loss: 0.0766 - val_accuracy: 0.9812\n",
            "Epoch 4/8\n",
            "296/296 - 14s - loss: 0.0188 - accuracy: 0.9940 - val_loss: 0.0602 - val_accuracy: 0.9874\n",
            "Epoch 5/8\n",
            "296/296 - 14s - loss: 0.0173 - accuracy: 0.9942 - val_loss: 0.0735 - val_accuracy: 0.9838\n",
            "Epoch 6/8\n",
            "296/296 - 14s - loss: 0.0181 - accuracy: 0.9943 - val_loss: 0.0724 - val_accuracy: 0.9817\n",
            "Epoch 7/8\n",
            "296/296 - 14s - loss: 0.0141 - accuracy: 0.9949 - val_loss: 0.0783 - val_accuracy: 0.9833\n",
            "Epoch 8/8\n",
            "296/296 - 14s - loss: 0.0129 - accuracy: 0.9958 - val_loss: 0.0731 - val_accuracy: 0.9852\n"
          ],
          "name": "stdout"
        },
        {
          "output_type": "execute_result",
          "data": {
            "text/plain": [
              "<tensorflow.python.keras.callbacks.History at 0x7ff6030a64d0>"
            ]
          },
          "metadata": {
            "tags": []
          },
          "execution_count": 91
        }
      ]
    },
    {
      "cell_type": "code",
      "metadata": {
        "colab": {
          "base_uri": "https://localhost:8080/"
        },
        "id": "L09lO2TJcEpg",
        "outputId": "e2b4c155-3f84-4ba9-910d-091f13ee49b3"
      },
      "source": [
        "test_data  = pd.read_csv(\"test.csv\")\n",
        "x_test = test_data.iloc[:,:].values.astype('float32')\n",
        "x_test = x_test.reshape(x_test.shape[0], 28,28,1)\n",
        "predictions = model.predict_classes(x_test)"
      ],
      "execution_count": 94,
      "outputs": [
        {
          "output_type": "stream",
          "text": [
            "/usr/local/lib/python3.7/dist-packages/tensorflow/python/keras/engine/sequential.py:450: UserWarning: `model.predict_classes()` is deprecated and will be removed after 2021-01-01. Please use instead:* `np.argmax(model.predict(x), axis=-1)`,   if your model does multi-class classification   (e.g. if it uses a `softmax` last-layer activation).* `(model.predict(x) > 0.5).astype(\"int32\")`,   if your model does binary classification   (e.g. if it uses a `sigmoid` last-layer activation).\n",
            "  warnings.warn('`model.predict_classes()` is deprecated and '\n"
          ],
          "name": "stderr"
        }
      ]
    },
    {
      "cell_type": "code",
      "metadata": {
        "id": "b2riWVtuio2a"
      },
      "source": [
        "submissions=pd.DataFrame({\"ImageId\": list(range(1,len(predictions)+1)),\n",
        "                         \"Label\": predictions})\n",
        "submissions.to_csv(\"test_predictions.csv\", index = False)"
      ],
      "execution_count": 95,
      "outputs": []
    },
    {
      "cell_type": "code",
      "metadata": {
        "id": "1S4iZxR0qE3d"
      },
      "source": [
        ""
      ],
      "execution_count": null,
      "outputs": []
    }
  ]
}